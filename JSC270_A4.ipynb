{
  "nbformat": 4,
  "nbformat_minor": 0,
  "metadata": {
    "colab": {
      "name": "JSC270_A4.ipynb",
      "provenance": [],
      "collapsed_sections": [],
      "include_colab_link": true
    },
    "kernelspec": {
      "name": "python3",
      "display_name": "Python 3"
    },
    "accelerator": "GPU"
  },
  "cells": [
    {
      "cell_type": "markdown",
      "metadata": {
        "id": "view-in-github",
        "colab_type": "text"
      },
      "source": [
        "<a href=\"https://colab.research.google.com/github/hgeorge21/JSC270_A4/blob/main/JSC270_A4.ipynb\" target=\"_parent\"><img src=\"https://colab.research.google.com/assets/colab-badge.svg\" alt=\"Open In Colab\"/></a>"
      ]
    },
    {
      "cell_type": "code",
      "metadata": {
        "id": "XvouPCHU_GgF",
        "colab": {
          "base_uri": "https://localhost:8080/"
        },
        "outputId": "c6113c21-fbc5-4ff9-9145-2038ff87930d"
      },
      "source": [
        "import numpy as np\n",
        "import pandas as pd\n",
        "import matplotlib.pyplot as plt\n",
        "import seaborn as sns\n",
        "\n",
        "import re\n",
        "import html\n",
        "\n",
        "import nltk\n",
        "from nltk.tokenize import WhitespaceTokenizer\n",
        "from nltk.corpus import stopwords\n",
        "from nltk.stem.porter import *\n",
        "from nltk.stem import WordNetLemmatizer\n",
        "nltk.download('punkt')\n",
        "nltk.download('stopwords')\n",
        "nltk.download('wordnet')\n",
        "\n",
        "import spacy\n",
        "try:\n",
        "    nlp = spacy.load('en_core_web_sm')\n",
        "except:\n",
        "    msg = !python -m spacy download en_core_web_sm\n",
        "\n",
        "from sklearn.model_selection import train_test_split\n",
        "from sklearn.feature_extraction.text import CountVectorizer\n",
        "from sklearn.feature_extraction.text import TfidfVectorizer\n",
        "from sklearn.naive_bayes import MultinomialNB\n",
        "from sklearn.metrics import accuracy_score, roc_curve\n",
        "\n",
        "import tweepy as tw\n",
        "\n",
        "try:\n",
        "  import scikitplot as skplt\n",
        "except:\n",
        "  !pip install scikit-plot\n",
        "  import scikitplot as skplt\n",
        "\n",
        "import keras\n",
        "from keras.models import Sequential\n",
        "from keras.layers import Dense, LSTM, Dropout, Activation, Embedding, Bidirectional\n",
        "from keras.optimizers import RMSprop, Adam\n",
        "from keras.callbacks import ModelCheckpoint\n",
        "from keras.utils import np_utils\n",
        "from keras.preprocessing.text import Tokenizer\n",
        "from keras.utils import to_categorical"
      ],
      "execution_count": 1,
      "outputs": [
        {
          "output_type": "stream",
          "text": [
            "[nltk_data] Downloading package punkt to /root/nltk_data...\n",
            "[nltk_data]   Package punkt is already up-to-date!\n",
            "[nltk_data] Downloading package stopwords to /root/nltk_data...\n",
            "[nltk_data]   Package stopwords is already up-to-date!\n",
            "[nltk_data] Downloading package wordnet to /root/nltk_data...\n",
            "[nltk_data]   Package wordnet is already up-to-date!\n"
          ],
          "name": "stdout"
        }
      ]
    },
    {
      "cell_type": "code",
      "metadata": {
        "id": "iPRxky02_gcV"
      },
      "source": [
        "def load_data(train_path, test_path):\n",
        "    trainD, testD = pd.read_csv(train_path, encoding='latin1'), pd.read_csv(test_path, encoding='latin1')\n",
        "    trainD = trainD.drop([\"Unnamed: 0\"], axis=1)\n",
        "    testD = testD.drop(['Unnamed: 0'], axis=1)\n",
        "    return trainD, testD\n",
        "\n",
        "trainData, testData = load_data(\n",
        "    './covid-tweets-train.csv',\n",
        "    './covid-tweets-test.csv')"
      ],
      "execution_count": 2,
      "outputs": []
    },
    {
      "cell_type": "code",
      "metadata": {
        "colab": {
          "base_uri": "https://localhost:8080/"
        },
        "id": "flYuH6i4ABgA",
        "outputId": "f6618819-6276-4fa8-c00a-b26fd8eee865"
      },
      "source": [
        "# The sentiment values are off...\n",
        "print(f\"Unique sentiments: {trainData['Sentiment'].unique()}\")\n",
        "\n",
        "# Only 4 / 41155 rows has weird sentiment values, let's remove them\n",
        "masks = False == trainData['Sentiment'].apply(lambda x: True if str(x).isdigit() else False)\n",
        "print(trainData[masks])\n",
        "\n",
        "# Remove the weird rows, reindex and convert sentiment to numeric\n",
        "trainData = trainData[masks.apply(lambda x: not x)].reindex()\n",
        "trainData.Sentiment = pd.to_numeric(trainData.Sentiment)"
      ],
      "execution_count": 3,
      "outputs": [
        {
          "output_type": "stream",
          "text": [
            "Unique sentiments: ['1' '2' '0' nan ' PA\"' ' England\"']\n",
            "                                           OriginalTweet  Sentiment\n",
            "15269  @Liberdade80 I havenÃÂt been to a supermarke...        NaN\n",
            "18450  @realDonaldTrump @POTUS @RandPaul Donald J. Tr...        PA\"\n",
            "21383  @USAF_ACC @usairforce @ACC_Commander Can you t...        NaN\n",
            "36128  @TheBlinkingOwl joined the growing list of dis...   England\"\n"
          ],
          "name": "stdout"
        }
      ]
    },
    {
      "cell_type": "markdown",
      "metadata": {
        "id": "psP1v5Sn003k"
      },
      "source": [
        "A)"
      ]
    },
    {
      "cell_type": "code",
      "metadata": {
        "colab": {
          "base_uri": "https://localhost:8080/"
        },
        "id": "HuoIpeNIEjRs",
        "outputId": "609743ea-1913-414e-e621-f97fe94534ba"
      },
      "source": [
        "# Show the balance of the sentiments\n",
        "# 1 (neutral) is much smaller than the other two\n",
        "valcounts = trainData.Sentiment.value_counts()\n",
        "print(valcounts)\n",
        "print(\"\\nSentiment distribution\")\n",
        "print(valcounts / np.sum(valcounts))"
      ],
      "execution_count": 4,
      "outputs": [
        {
          "output_type": "stream",
          "text": [
            "2    18042\n",
            "0    15397\n",
            "1     7712\n",
            "Name: Sentiment, dtype: int64\n",
            "\n",
            "Sentiment distribution\n",
            "2    0.438434\n",
            "0    0.374159\n",
            "1    0.187407\n",
            "Name: Sentiment, dtype: float64\n"
          ],
          "name": "stdout"
        }
      ]
    },
    {
      "cell_type": "markdown",
      "metadata": {
        "id": "oU-a2BBHHN9R"
      },
      "source": [
        "Processing Tweets\n",
        "\n",
        "B & C & D & E & F"
      ]
    },
    {
      "cell_type": "code",
      "metadata": {
        "id": "AdfGFYOUElnb"
      },
      "source": [
        "def preprocess(tokens):\n",
        "  ret = []\n",
        "  for s in tokens:\n",
        "    # Remove urls\n",
        "    s = re.sub(r\"(http|www)\\S+\", \"\", s)\n",
        "    # Remove special characters except ' to preserve words like \"I'm\"\n",
        "    s = re.sub(\"[^\\w\\s]\", \"\", s)\n",
        "    # Change to lower cases\n",
        "    s = s.lower()\n",
        "    if s != \"\":\n",
        "      ret.append(s)\n",
        "  return ret\n",
        "\n",
        "# Remove stopwords using top 100 most popular words\n",
        "sw = stopwords.words('english')[:100]\n",
        "\n",
        "def remove_stopwords(token):\n",
        "  return [s for s in token if not s in sw]"
      ],
      "execution_count": 5,
      "outputs": []
    },
    {
      "cell_type": "code",
      "metadata": {
        "id": "i4RTsHfPCIvB"
      },
      "source": [
        "def process_data(data):\n",
        "  # Stems the words using Porter Stemmer\n",
        "  stemmer = PorterStemmer()\n",
        "  data['tokens'] = data['OriginalTweet'].apply(WhitespaceTokenizer().tokenize)\n",
        "  data['tokens'] = data['tokens'].apply(preprocess)\n",
        "  data['tokens'] = data['tokens'].apply(lambda x: [stemmer.stem(t) for t in x])\n",
        "  data['tokens'] = data['tokens'].apply(remove_stopwords)\n",
        "  return data"
      ],
      "execution_count": 6,
      "outputs": []
    },
    {
      "cell_type": "code",
      "metadata": {
        "id": "Jy7p4sayKfQx"
      },
      "source": [
        "trainD = process_data(trainData)\n",
        "testD = process_data(testData)\n",
        "\n",
        "X_train, y_train = trainD['tokens'].to_numpy(), trainD['Sentiment'].to_numpy()\n",
        "X_test, y_test = testD['tokens'].to_numpy(), testD['Sentiment'].to_numpy()\n",
        "\n",
        "n_train, n_test = X_train.shape[0], X_test.shape[0]\n",
        "X = np.concatenate([X_train, X_test])\n",
        "y = np.concatenate([y_train, y_test])"
      ],
      "execution_count": 7,
      "outputs": []
    },
    {
      "cell_type": "markdown",
      "metadata": {
        "id": "KyA0S8kO1QmE"
      },
      "source": [
        "G)"
      ]
    },
    {
      "cell_type": "code",
      "metadata": {
        "id": "cyxaom1fTGsP",
        "colab": {
          "base_uri": "https://localhost:8080/"
        },
        "outputId": "9f54d829-b303-4936-a5fd-0e69ba132808"
      },
      "source": [
        "vocab = np.unique(np.concatenate(X))\n",
        "vocab_count = vocab.shape[0]\n",
        "print(f\"Vocab size: {vocab_count}\")\n",
        "\n",
        "def override_fcn(doc):\n",
        "  # We expect a list of tokens as input\n",
        "  return doc\n",
        "\n",
        "# Count Vectorizer\n",
        "count_vec = CountVectorizer(\n",
        "    analyzer='word',\n",
        "    tokenizer=override_fcn,\n",
        "    preprocessor=override_fcn,\n",
        "    token_pattern=None,\n",
        "    max_features=vocab_count)"
      ],
      "execution_count": 8,
      "outputs": [
        {
          "output_type": "stream",
          "text": [
            "Vocab size: 55423\n"
          ],
          "name": "stdout"
        }
      ]
    },
    {
      "cell_type": "code",
      "metadata": {
        "id": "TRgzp_etSF0m"
      },
      "source": [
        "# Remember this output is a Scipy Sparse Array\n",
        "# Store separately since dense ones still needed\n",
        "X_trans = count_vec.fit_transform(X)\n",
        "X_trainS, X_testS = X_trans[:n_train, :], X_trans[n_train:, :]"
      ],
      "execution_count": 9,
      "outputs": []
    },
    {
      "cell_type": "markdown",
      "metadata": {
        "id": "_k0axNcU1eAz"
      },
      "source": [
        "H)"
      ]
    },
    {
      "cell_type": "code",
      "metadata": {
        "colab": {
          "base_uri": "https://localhost:8080/"
        },
        "id": "iINgmw4wSJ5Q",
        "outputId": "f634522c-f3a6-4464-e7d1-a434d0d50812"
      },
      "source": [
        "# Fit a Naive Bayes model on this\n",
        "nb = MultinomialNB()\n",
        "nb.fit(X_trainS, y_train)\n",
        "\n",
        "y_pred_train = nb.predict(X_trainS)\n",
        "y_pred_test  = nb.predict(X_testS)\n",
        "print(f\"Train accuracy: {accuracy_score(y_train, y_pred_train):.2f}\")\n",
        "print(f\"Train error:    {1-accuracy_score(y_train, y_pred_train):.2f}\")\n",
        "print(f\"Test accuracy:  {accuracy_score(y_test, y_pred_test):.2f}\")\n",
        "print(f\"Test error:     {1-accuracy_score(y_test, y_pred_test):.2f}\")"
      ],
      "execution_count": 10,
      "outputs": [
        {
          "output_type": "stream",
          "text": [
            "Train accuracy: 0.79\n",
            "Train error:    0.21\n",
            "Test accuracy:  0.68\n",
            "Test error:     0.32\n"
          ],
          "name": "stdout"
        }
      ]
    },
    {
      "cell_type": "code",
      "metadata": {
        "colab": {
          "base_uri": "https://localhost:8080/"
        },
        "id": "fZwBZKf51lRD",
        "outputId": "b73ca5fb-cded-4a20-f66d-c8ddfe924585"
      },
      "source": [
        "# Get the top 5 words for each sentiment, looks reasonable\n",
        "for k in [0, 1, 2]:\n",
        "  mask = y_train == k\n",
        "  text = X_train[mask]\n",
        "  unique, counts = np.unique(np.concatenate(text), return_counts=True)\n",
        "  prob = (counts+1) / np.sum(counts+1)\n",
        "  idx = prob.argsort()[-5:][::-1]\n",
        "  print(f\"Sentiment {k}: {unique[idx]}\")\n",
        "  print(f\"Counts {k}:    {counts[idx]}\")"
      ],
      "execution_count": 11,
      "outputs": [
        {
          "output_type": "stream",
          "text": [
            "Sentiment 0: ['coronaviru' 'covid19' 'price' 'food' 'thi']\n",
            "Counts 0:    [6703 4862 4332 3622 3206]\n",
            "Sentiment 1: ['coronaviru' 'covid19' 'store' 'supermarket' 'price']\n",
            "Counts 1:    [3792 2751 1581 1435 1361]\n",
            "Sentiment 2: ['coronaviru' 'covid19' 'store' 'thi' 'price']\n",
            "Counts 2:    [7466 6001 3895 3770 3322]\n"
          ],
          "name": "stdout"
        }
      ]
    },
    {
      "cell_type": "markdown",
      "metadata": {
        "id": "_dhzmEGHiQOU"
      },
      "source": [
        "I)\n",
        "\n",
        "ROC curve is appropriate because the count of each class is balanced. In a inbalanced class distribution, the ROC curve does not give much information since the AUC will be very high. In this case, the three classes (0, 1, 2) are 44%, 37%, 19% of total data, respectively. So the classfication does not favor any particular class and thus ROC curve is applicable in this case."
      ]
    },
    {
      "cell_type": "code",
      "metadata": {
        "colab": {
          "base_uri": "https://localhost:8080/",
          "height": 513
        },
        "id": "9DG6rEDEd3DA",
        "outputId": "76aded15-ba22-42b6-aecd-34fcd076cc7a"
      },
      "source": [
        "y_probas = nb.predict_proba(X_testS)\n",
        "\n",
        "fig, ax = plt.subplots(figsize=(12,8))\n",
        "skplt.metrics.plot_roc(y_test, y_probas, ax=ax)\n",
        "plt.show()"
      ],
      "execution_count": 12,
      "outputs": [
        {
          "output_type": "display_data",
          "data": {
            "image/png": "[encoded data removed]",
            "text/plain": [
              "<Figure size 864x576 with 1 Axes>"
            ]
          },
          "metadata": {
            "tags": [],
            "needs_background": "light"
          }
        }
      ]
    },
    {
      "cell_type": "markdown",
      "metadata": {
        "id": "HqdUHPUHeCiR"
      },
      "source": [
        "J)"
      ]
    },
    {
      "cell_type": "code",
      "metadata": {
        "colab": {
          "base_uri": "https://localhost:8080/"
        },
        "id": "ceKpufhpd5CE",
        "outputId": "df6c0683-577a-4946-ee27-d18d5403cc76"
      },
      "source": [
        "def TF_IDF_predict(X, y, n_train):\n",
        "    vocab = np.unique(np.concatenate(X))\n",
        "    vocab_count = vocab.shape[0]\n",
        "\n",
        "    def override_fcn(doc):\n",
        "      # We expect a list of tokens as input\n",
        "      return doc\n",
        "\n",
        "    tfidf =  TfidfVectorizer(analyzer='word',\n",
        "                             tokenizer=override_fcn,\n",
        "                             preprocessor=override_fcn,\n",
        "                             token_pattern=None,\n",
        "                             max_features=vocab_count)\n",
        "    tfs = tfidf.fit_transform(X)\n",
        "    X_train_tfs, X_test_tfs = tfs[:n_train, :], tfs[n_train:, :]\n",
        "    y_train, y_test = y[:n_train], y[n_train:]\n",
        "    \n",
        "    nb = MultinomialNB()\n",
        "    nb.fit(X_train_tfs, y_train)\n",
        "    y_pred_train = nb.predict(X_train_tfs)\n",
        "    y_pred_test  = nb.predict(X_test_tfs) \n",
        "\n",
        "    print(f\"Train accuracy: {accuracy_score(y_train, y_pred_train):.2f}\")\n",
        "    print(f\"Train error:    {1-accuracy_score(y_train, y_pred_train):.2f}\")\n",
        "    print(f\"Test accuracy:  {accuracy_score(y_test, y_pred_test):.2f}\")\n",
        "    print(f\"Test error:     {1-accuracy_score(y_test, y_pred_test):.2f}\")\n",
        "    \n",
        "TF_IDF_predict(X, y, n_train)"
      ],
      "execution_count": 13,
      "outputs": [
        {
          "output_type": "stream",
          "text": [
            "Train accuracy: 0.72\n",
            "Train error:    0.28\n",
            "Test accuracy:  0.64\n",
            "Test error:     0.36\n"
          ],
          "name": "stdout"
        }
      ]
    },
    {
      "cell_type": "markdown",
      "metadata": {
        "id": "T7y3LjedE2i8"
      },
      "source": [
        "K)"
      ]
    },
    {
      "cell_type": "code",
      "metadata": {
        "id": "LgQcsHrklv3q"
      },
      "source": [
        "def process_data_lemmatizer(data):\n",
        "  # lemmatizes the words using WordNet lemmatizer\n",
        "  lemmatizer = WordNetLemmatizer()\n",
        "  data['tokens'] = data['OriginalTweet'].apply(WhitespaceTokenizer().tokenize)\n",
        "  data['tokens'] = data['tokens'].apply(preprocess)\n",
        "  data['tokens'] = data['tokens'].apply(lambda x: [lemmatizer.lemmatize(t) for t in x])\n",
        "  data['tokens'] = data['tokens'].apply(remove_stopwords)\n",
        "  return data"
      ],
      "execution_count": 14,
      "outputs": []
    },
    {
      "cell_type": "code",
      "metadata": {
        "id": "nREcLSf-wbiv",
        "colab": {
          "base_uri": "https://localhost:8080/"
        },
        "outputId": "6b2c2212-76b8-4bb5-db87-5c26e2042676"
      },
      "source": [
        "trainD = process_data_lemmatizer(trainData)\n",
        "testD = process_data_lemmatizer(testData)\n",
        "\n",
        "X_train, y_train = trainD['tokens'].to_numpy(), trainD['Sentiment'].to_numpy()\n",
        "X_test, y_test = testD['tokens'].to_numpy(), testD['Sentiment'].to_numpy()\n",
        "\n",
        "n_train, n_test = X_train.shape[0], X_test.shape[0]\n",
        "X = np.concatenate([X_train, X_test])\n",
        "y = np.concatenate([y_train, y_test])\n",
        "\n",
        "TF_IDF_predict(X, y, n_train)"
      ],
      "execution_count": 15,
      "outputs": [
        {
          "output_type": "stream",
          "text": [
            "Train accuracy: 0.73\n",
            "Train error:    0.27\n",
            "Test accuracy:  0.64\n",
            "Test error:     0.36\n"
          ],
          "name": "stdout"
        }
      ]
    },
    {
      "cell_type": "markdown",
      "metadata": {
        "id": "HMC0ebIR2Htz"
      },
      "source": [
        "Part 2"
      ]
    },
    {
      "cell_type": "code",
      "metadata": {
        "id": "pmiInMockfNB"
      },
      "source": [
        "api_key = 'geVceEjNp9C83wY1qbY5GBXLv'\n",
        "api_secret_key = 'T3UwzQ2qSTeNTNtS5qv0E9hVLYBPeIaQVWhVa1K34Zd19BvQw8'\n",
        "access_key =  '1369267084820160514-TCwE5D6ofbjHEL7E2vPOvVyIg1KnOV'\n",
        "access_secret = 'AecNVigHnt6iV8YEXZWpAnOckplm9xW6Hvoaa2MkAjUBq'"
      ],
      "execution_count": 16,
      "outputs": []
    },
    {
      "cell_type": "code",
      "metadata": {
        "id": "YaaTx6sVlH0I"
      },
      "source": [
        "# Use credentials to authorize access\n",
        "auth = tw.OAuthHandler(api_key, api_secret_key)\n",
        "auth.set_access_token(access_key, access_secret)\n",
        "api = tw.API(auth, wait_on_rate_limit=True)"
      ],
      "execution_count": 17,
      "outputs": []
    },
    {
      "cell_type": "code",
      "metadata": {
        "id": "l_pIVRfloAzv"
      },
      "source": [
        "# WARNING!!!\n",
        "# if you run this commented section, it will take A LONG TIME (10 hours for me)\n",
        "# Below is to load saved data from memory\n",
        "# search_words = 'lockdown'\n",
        "# date_since = \"2021-03-09\"\n",
        "# # We can add filters to our search words \n",
        "# search_with_filter = search_words + \" -filter:retweets\"\n",
        "\n",
        "# tweets = tw.Cursor(api.search,\n",
        "#                     q=search_with_filter,\n",
        "#                     lang=\"en\",\n",
        "#                     since=date_since,\n",
        "#                     result_type = 'recent').items(100000)\n",
        "# # Could also specify popular\n",
        "# print('done gathering')\n",
        "# ls = [tweet.text for tweet in tweets]\n",
        "# print(len(ls))\n",
        "# df = pd.DataFrame(ls, columns=['tweets'])\n",
        "# df.to_pickle('tweetsData')\n",
        "\n",
        "# If you want to load from pickle\n",
        "# !pip install pickle5\n",
        "# import pickle5\n",
        "# with open('tweetsData', 'rb') as f:\n",
        "#   df = pickle5.load(f)\n",
        "\n",
        "# If you want to load from csv\n",
        "df = pd.read_csv('tweetData.csv')"
      ],
      "execution_count": 18,
      "outputs": []
    },
    {
      "cell_type": "code",
      "metadata": {
        "colab": {
          "base_uri": "https://localhost:8080/",
          "height": 359
        },
        "id": "jTp1GeoIx_LM",
        "outputId": "acb727a8-3a42-49e2-ae7b-28bc695e8eab"
      },
      "source": [
        "def preprocess2(tokens):\n",
        "  ret = []\n",
        "  for s in tokens:\n",
        "    # Remove urls\n",
        "    s = re.sub(r\"(http|www)\\S+\", \"\", s)\n",
        "    # Remove usernames\n",
        "    s = re.sub(\"@.+\", \"\", s)\n",
        "    # Remove special characters except ' to preserve words like \"I'm\"\n",
        "    s = re.sub(\"[^\\w\\s']\", \"\", s)\n",
        "    # Change to lower cases\n",
        "    s = s.lower()\n",
        "    if s != \"\":\n",
        "      ret.append(s)\n",
        "  return ret\n",
        "\n",
        "def process_data2(data):\n",
        "    lemmatizer = WordNetLemmatizer()\n",
        "    data['tokens'] = data['tweets'].apply(WhitespaceTokenizer().tokenize)\n",
        "    data['tokens'] = data['tokens'].apply(preprocess2)\n",
        "    data['tokens'] = data['tokens'].apply(lambda x: [lemmatizer.lemmatize(t) for t in x])\n",
        "    return data\n",
        "\n",
        "df = process_data2(df)\n",
        "df.head(10)"
      ],
      "execution_count": 19,
      "outputs": [
        {
          "output_type": "execute_result",
          "data": {
            "text/html": [
              "<div>\n",
              "<style scoped>\n",
              "    .dataframe tbody tr th:only-of-type {\n",
              "        vertical-align: middle;\n",
              "    }\n",
              "\n",
              "    .dataframe tbody tr th {\n",
              "        vertical-align: top;\n",
              "    }\n",
              "\n",
              "    .dataframe thead th {\n",
              "        text-align: right;\n",
              "    }\n",
              "</style>\n",
              "<table border=\"1\" class=\"dataframe\">\n",
              "  <thead>\n",
              "    <tr style=\"text-align: right;\">\n",
              "      <th></th>\n",
              "      <th>tweets</th>\n",
              "      <th>tokens</th>\n",
              "    </tr>\n",
              "  </thead>\n",
              "  <tbody>\n",
              "    <tr>\n",
              "      <th>0</th>\n",
              "      <td>Covid: Croquet clubs 'inundated' during lockdo...</td>\n",
              "      <td>[covid, croquet, club, 'inundated', during, lo...</td>\n",
              "    </tr>\n",
              "    <tr>\n",
              "      <th>1</th>\n",
              "      <td>Lockdown Madness In Cebu City 4/4/21 https://t...</td>\n",
              "      <td>[lockdown, madness, in, cebu, city, 4421, via]</td>\n",
              "    </tr>\n",
              "    <tr>\n",
              "      <th>2</th>\n",
              "      <td>@dhanushkraja Everyone is talking about Lockdo...</td>\n",
              "      <td>[everyone, is, talking, about, lockdown, from,...</td>\n",
              "    </tr>\n",
              "    <tr>\n",
              "      <th>3</th>\n",
              "      <td>'The zebras loved lockdown but the goats misse...</td>\n",
              "      <td>['the, zebra, loved, lockdown, but, the, goat,...</td>\n",
              "    </tr>\n",
              "    <tr>\n",
              "      <th>4</th>\n",
              "      <td>#FMCG companies getting ready in anticipation ...</td>\n",
              "      <td>[fmcg, company, getting, ready, in, anticipati...</td>\n",
              "    </tr>\n",
              "    <tr>\n",
              "      <th>5</th>\n",
              "      <td>Corona Report from Medical officer/ DM has not...</td>\n",
              "      <td>[corona, report, from, medical, officer, dm, h...</td>\n",
              "    </tr>\n",
              "    <tr>\n",
              "      <th>6</th>\n",
              "      <td>#Lockdown in #bangladesh \\nFor 1 week. https:/...</td>\n",
              "      <td>[lockdown, in, bangladesh, for, 1, week]</td>\n",
              "    </tr>\n",
              "    <tr>\n",
              "      <th>7</th>\n",
              "      <td>I am rewatchint the Amy's Baking Company episo...</td>\n",
              "      <td>[i, am, rewatchint, the, amy's, baking, compan...</td>\n",
              "    </tr>\n",
              "    <tr>\n",
              "      <th>8</th>\n",
              "      <td>When people &amp;amp; Business owners r ready to p...</td>\n",
              "      <td>[when, people, amp, business, owner, r, ready,...</td>\n",
              "    </tr>\n",
              "    <tr>\n",
              "      <th>9</th>\n",
              "      <td>🚨🚨🚨MINGYU LOCKDOWN TOMORROW🚨🚨🚨🚨🚨🚨🚨</td>\n",
              "      <td>[mingyu, lockdown, tomorrow]</td>\n",
              "    </tr>\n",
              "  </tbody>\n",
              "</table>\n",
              "</div>"
            ],
            "text/plain": [
              "                                              tweets                                             tokens\n",
              "0  Covid: Croquet clubs 'inundated' during lockdo...  [covid, croquet, club, 'inundated', during, lo...\n",
              "1  Lockdown Madness In Cebu City 4/4/21 https://t...     [lockdown, madness, in, cebu, city, 4421, via]\n",
              "2  @dhanushkraja Everyone is talking about Lockdo...  [everyone, is, talking, about, lockdown, from,...\n",
              "3  'The zebras loved lockdown but the goats misse...  ['the, zebra, loved, lockdown, but, the, goat,...\n",
              "4  #FMCG companies getting ready in anticipation ...  [fmcg, company, getting, ready, in, anticipati...\n",
              "5  Corona Report from Medical officer/ DM has not...  [corona, report, from, medical, officer, dm, h...\n",
              "6  #Lockdown in #bangladesh \\nFor 1 week. https:/...           [lockdown, in, bangladesh, for, 1, week]\n",
              "7  I am rewatchint the Amy's Baking Company episo...  [i, am, rewatchint, the, amy's, baking, compan...\n",
              "8  When people &amp; Business owners r ready to p...  [when, people, amp, business, owner, r, ready,...\n",
              "9                 🚨🚨🚨MINGYU LOCKDOWN TOMORROW🚨🚨🚨🚨🚨🚨🚨                       [mingyu, lockdown, tomorrow]"
            ]
          },
          "metadata": {
            "tags": []
          },
          "execution_count": 19
        }
      ]
    },
    {
      "cell_type": "code",
      "metadata": {
        "id": "v3OPy72iyNF3"
      },
      "source": [
        "data = df['tokens']\n",
        "lens = data.apply(lambda x: len(x))\n",
        "maxlen = max(lens)\n",
        "data = data[lens > 5]\n",
        "del lens"
      ],
      "execution_count": 20,
      "outputs": []
    },
    {
      "cell_type": "code",
      "metadata": {
        "id": "d_zcTnwlyPg1"
      },
      "source": [
        "tt = []\n",
        "for d in data:\n",
        "  sent = ''\n",
        "  for word in d:\n",
        "    sent = sent + word + ' '\n",
        "  sent = sent[:-1]\n",
        "  tt.append(sent)\n",
        "del data"
      ],
      "execution_count": 21,
      "outputs": []
    },
    {
      "cell_type": "code",
      "metadata": {
        "colab": {
          "base_uri": "https://localhost:8080/"
        },
        "id": "OQjw-rVLyifi",
        "outputId": "2fc348ed-6d04-42c1-ef35-87f764834e37"
      },
      "source": [
        "tokenizer = Tokenizer()\n",
        "tokenizer.fit_on_texts(tt)\n",
        "sequences = tokenizer.texts_to_sequences(tt)\n",
        "vocab_size = len(tokenizer.word_index) + 1\n",
        "del tt\n",
        "\n",
        "vocab_size"
      ],
      "execution_count": 22,
      "outputs": [
        {
          "output_type": "execute_result",
          "data": {
            "text/plain": [
              "53916"
            ]
          },
          "metadata": {
            "tags": []
          },
          "execution_count": 22
        }
      ]
    },
    {
      "cell_type": "code",
      "metadata": {
        "id": "4AVtsx3Xym1e"
      },
      "source": [
        "from keras.preprocessing import sequence \n",
        "sequences = sequence.pad_sequences(sequences, maxlen=maxlen) \n",
        "\n",
        "# for data in train_data:\n",
        "input_len = 15\n",
        "new_seqs = [] \n",
        "for seq in sequences:\n",
        "  for i in range(len(seq) - (input_len+1)):\n",
        "    new_seqs.append(seq[i:i+input_len+1])\n",
        "new_seqs = np.array(new_seqs)"
      ],
      "execution_count": 23,
      "outputs": []
    },
    {
      "cell_type": "code",
      "metadata": {
        "id": "VAl5hQ_gyyR3"
      },
      "source": [
        "# Get only valid data\n",
        "new_seqs = new_seqs[new_seqs[:,-1]>0,:]\n",
        "X, y = new_seqs[:,:input_len], new_seqs[:,input_len]"
      ],
      "execution_count": 24,
      "outputs": []
    },
    {
      "cell_type": "code",
      "metadata": {
        "colab": {
          "base_uri": "https://localhost:8080/"
        },
        "id": "BTQzoQ2Azyv4",
        "outputId": "1e3ea85a-d072-498c-8b0e-ef866916ae2f"
      },
      "source": [
        "X_train, X_test, y_train, y_test = train_test_split(X, y, train_size=0.8, random_state=42)\n",
        "X.shape, y.shape"
      ],
      "execution_count": 25,
      "outputs": [
        {
          "output_type": "execute_result",
          "data": {
            "text/plain": [
              "((1254048, 15), (1254048,))"
            ]
          },
          "metadata": {
            "tags": []
          },
          "execution_count": 25
        }
      ]
    },
    {
      "cell_type": "code",
      "metadata": {
        "id": "PMJVm7Q2z3Ti"
      },
      "source": [
        "def buildmodel(vocab_size, embed_size, input_len):\n",
        "  model = Sequential()\n",
        "  model.add(Embedding(vocab_size, embed_size, input_length=input_len))\n",
        "  model.add(Bidirectional(LSTM(100, return_sequences=True, go_backwards=True)))\n",
        "  model.add(LSTM(100))\n",
        "  model.add(Dense(100, activation=\"relu\"))\n",
        "  model.add(Dense(vocab_size, activation=\"softmax\"))\n",
        "  model.compile(loss='sparse_categorical_crossentropy', optimizer='adam', metrics=['accuracy'])\n",
        "  return model"
      ],
      "execution_count": 26,
      "outputs": []
    },
    {
      "cell_type": "code",
      "metadata": {
        "colab": {
          "base_uri": "https://localhost:8080/"
        },
        "id": "7kkRDz3Tz48A",
        "outputId": "762dca56-9873-4bfd-904c-dc3dc24fd0aa"
      },
      "source": [
        "from tensorflow.keras.callbacks import ModelCheckpoint\n",
        "from tensorflow.keras.callbacks import ReduceLROnPlateau\n",
        "from tensorflow.keras.callbacks import TensorBoard\n",
        "\n",
        "checkpoint = ModelCheckpoint(\"model{epoch:003d}.hdf5\", monitor='loss', verbose=1,\n",
        "    save_best_only=True, mode='auto')\n",
        "\n",
        "reduce = ReduceLROnPlateau(monitor='loss', factor=0.2, patience=3, min_lr=0.001, verbose=1)\n",
        "\n",
        "logdir='logsnextword1'\n",
        "tensorboard_Visualization = TensorBoard(log_dir=logdir)\n",
        "\n",
        "model = buildmodel(vocab_size, 20, input_len)\n",
        "model.summary()"
      ],
      "execution_count": 27,
      "outputs": [
        {
          "output_type": "stream",
          "text": [
            "Model: \"sequential\"\n",
            "_________________________________________________________________\n",
            "Layer (type)                 Output Shape              Param #   \n",
            "=================================================================\n",
            "embedding (Embedding)        (None, 15, 20)            1078320   \n",
            "_________________________________________________________________\n",
            "bidirectional (Bidirectional (None, 15, 200)           96800     \n",
            "_________________________________________________________________\n",
            "lstm_1 (LSTM)                (None, 100)               120400    \n",
            "_________________________________________________________________\n",
            "dense (Dense)                (None, 100)               10100     \n",
            "_________________________________________________________________\n",
            "dense_1 (Dense)              (None, 53916)             5445516   \n",
            "=================================================================\n",
            "Total params: 6,751,136\n",
            "Trainable params: 6,751,136\n",
            "Non-trainable params: 0\n",
            "_________________________________________________________________\n"
          ],
          "name": "stdout"
        }
      ]
    },
    {
      "cell_type": "code",
      "metadata": {
        "colab": {
          "base_uri": "https://localhost:8080/"
        },
        "id": "RZZATzV2z6bo",
        "outputId": "ed69bc95-6db0-47e3-8a9a-f38348928a80"
      },
      "source": [
        "hist = model.fit(X_train, y_train, \n",
        "                 epochs=30, batch_size=256, #validation_split=0.2, shuffle=True,\n",
        "                 validation_data=(X_test, y_test),\n",
        "                 callbacks=[checkpoint, reduce, tensorboard_Visualization])"
      ],
      "execution_count": 28,
      "outputs": [
        {
          "output_type": "stream",
          "text": [
            "Epoch 1/30\n",
            "3919/3919 [==============================] - 153s 37ms/step - loss: 7.1801 - accuracy: 0.0426 - val_loss: 6.7482 - val_accuracy: 0.0515\n",
            "\n",
            "Epoch 00001: loss improved from inf to 6.99634, saving model to model001.hdf5\n",
            "Epoch 2/30\n",
            "3919/3919 [==============================] - 145s 37ms/step - loss: 6.4874 - accuracy: 0.0730 - val_loss: 6.1423 - val_accuracy: 0.1201\n",
            "\n",
            "Epoch 00002: loss improved from 6.99634 to 6.32523, saving model to model002.hdf5\n",
            "Epoch 3/30\n",
            "3919/3919 [==============================] - 145s 37ms/step - loss: 5.9060 - accuracy: 0.1269 - val_loss: 5.9569 - val_accuracy: 0.1396\n",
            "\n",
            "Epoch 00003: loss improved from 6.32523 to 5.86254, saving model to model003.hdf5\n",
            "Epoch 4/30\n",
            "3919/3919 [==============================] - 143s 36ms/step - loss: 5.6360 - accuracy: 0.1461 - val_loss: 5.8749 - val_accuracy: 0.1546\n",
            "\n",
            "Epoch 00004: loss improved from 5.86254 to 5.61301, saving model to model004.hdf5\n",
            "Epoch 5/30\n",
            "3919/3919 [==============================] - 143s 36ms/step - loss: 5.4367 - accuracy: 0.1627 - val_loss: 5.8351 - val_accuracy: 0.1648\n",
            "\n",
            "Epoch 00005: loss improved from 5.61301 to 5.42673, saving model to model005.hdf5\n",
            "Epoch 6/30\n",
            "3919/3919 [==============================] - 143s 36ms/step - loss: 5.2779 - accuracy: 0.1749 - val_loss: 5.8363 - val_accuracy: 0.1723\n",
            "\n",
            "Epoch 00006: loss improved from 5.42673 to 5.28231, saving model to model006.hdf5\n",
            "Epoch 7/30\n",
            "3919/3919 [==============================] - 143s 36ms/step - loss: 5.1577 - accuracy: 0.1848 - val_loss: 5.8309 - val_accuracy: 0.1782\n",
            "\n",
            "Epoch 00007: loss improved from 5.28231 to 5.16304, saving model to model007.hdf5\n",
            "Epoch 8/30\n",
            "3919/3919 [==============================] - 142s 36ms/step - loss: 5.0528 - accuracy: 0.1928 - val_loss: 5.8463 - val_accuracy: 0.1828\n",
            "\n",
            "Epoch 00008: loss improved from 5.16304 to 5.06262, saving model to model008.hdf5\n",
            "Epoch 9/30\n",
            "3919/3919 [==============================] - 143s 36ms/step - loss: 4.9630 - accuracy: 0.1988 - val_loss: 5.8893 - val_accuracy: 0.1879\n",
            "\n",
            "Epoch 00009: loss improved from 5.06262 to 4.97496, saving model to model009.hdf5\n",
            "Epoch 10/30\n",
            "3919/3919 [==============================] - 142s 36ms/step - loss: 4.8806 - accuracy: 0.2062 - val_loss: 5.9129 - val_accuracy: 0.1916\n",
            "\n",
            "Epoch 00010: loss improved from 4.97496 to 4.89769, saving model to model010.hdf5\n",
            "Epoch 11/30\n",
            "3919/3919 [==============================] - 142s 36ms/step - loss: 4.8086 - accuracy: 0.2112 - val_loss: 5.9510 - val_accuracy: 0.1944\n",
            "\n",
            "Epoch 00011: loss improved from 4.89769 to 4.82868, saving model to model011.hdf5\n",
            "Epoch 12/30\n",
            "3919/3919 [==============================] - 142s 36ms/step - loss: 4.7458 - accuracy: 0.2164 - val_loss: 6.0067 - val_accuracy: 0.1960\n",
            "\n",
            "Epoch 00012: loss improved from 4.82868 to 4.76521, saving model to model012.hdf5\n",
            "Epoch 13/30\n",
            "3919/3919 [==============================] - 143s 36ms/step - loss: 4.6850 - accuracy: 0.2214 - val_loss: 6.0245 - val_accuracy: 0.1997\n",
            "\n",
            "Epoch 00013: loss improved from 4.76521 to 4.70783, saving model to model013.hdf5\n",
            "Epoch 14/30\n",
            "3919/3919 [==============================] - 142s 36ms/step - loss: 4.6328 - accuracy: 0.2249 - val_loss: 6.0948 - val_accuracy: 0.2019\n",
            "\n",
            "Epoch 00014: loss improved from 4.70783 to 4.65458, saving model to model014.hdf5\n",
            "Epoch 15/30\n",
            "3919/3919 [==============================] - 145s 37ms/step - loss: 4.5822 - accuracy: 0.2286 - val_loss: 6.1566 - val_accuracy: 0.2029\n",
            "\n",
            "Epoch 00015: loss improved from 4.65458 to 4.60527, saving model to model015.hdf5\n",
            "Epoch 16/30\n",
            "3919/3919 [==============================] - 144s 37ms/step - loss: 4.5372 - accuracy: 0.2323 - val_loss: 6.1799 - val_accuracy: 0.2052\n",
            "\n",
            "Epoch 00016: loss improved from 4.60527 to 4.56096, saving model to model016.hdf5\n",
            "Epoch 17/30\n",
            "3919/3919 [==============================] - 143s 37ms/step - loss: 4.4936 - accuracy: 0.2356 - val_loss: 6.2356 - val_accuracy: 0.2046\n",
            "\n",
            "Epoch 00017: loss improved from 4.56096 to 4.51816, saving model to model017.hdf5\n",
            "Epoch 18/30\n",
            "3919/3919 [==============================] - 144s 37ms/step - loss: 4.4533 - accuracy: 0.2395 - val_loss: 6.3141 - val_accuracy: 0.2063\n",
            "\n",
            "Epoch 00018: loss improved from 4.51816 to 4.47898, saving model to model018.hdf5\n",
            "Epoch 19/30\n",
            "3919/3919 [==============================] - 145s 37ms/step - loss: 4.4165 - accuracy: 0.2414 - val_loss: 6.3829 - val_accuracy: 0.2067\n",
            "\n",
            "Epoch 00019: loss improved from 4.47898 to 4.44243, saving model to model019.hdf5\n",
            "Epoch 20/30\n",
            "3919/3919 [==============================] - 143s 37ms/step - loss: 4.3830 - accuracy: 0.2442 - val_loss: 6.4685 - val_accuracy: 0.2077\n",
            "\n",
            "Epoch 00020: loss improved from 4.44243 to 4.40827, saving model to model020.hdf5\n",
            "Epoch 21/30\n",
            "3919/3919 [==============================] - 144s 37ms/step - loss: 4.3454 - accuracy: 0.2472 - val_loss: 6.5053 - val_accuracy: 0.2076\n",
            "\n",
            "Epoch 00021: loss improved from 4.40827 to 4.37627, saving model to model021.hdf5\n",
            "Epoch 22/30\n",
            "3919/3919 [==============================] - 144s 37ms/step - loss: 4.3189 - accuracy: 0.2492 - val_loss: 6.5501 - val_accuracy: 0.2078\n",
            "\n",
            "Epoch 00022: loss improved from 4.37627 to 4.34634, saving model to model022.hdf5\n",
            "Epoch 23/30\n",
            "3919/3919 [==============================] - 146s 37ms/step - loss: 4.2817 - accuracy: 0.2523 - val_loss: 6.6528 - val_accuracy: 0.2088\n",
            "\n",
            "Epoch 00023: loss improved from 4.34634 to 4.31854, saving model to model023.hdf5\n",
            "Epoch 24/30\n",
            "3919/3919 [==============================] - 144s 37ms/step - loss: 4.2571 - accuracy: 0.2552 - val_loss: 6.6953 - val_accuracy: 0.2093\n",
            "\n",
            "Epoch 00024: loss improved from 4.31854 to 4.29096, saving model to model024.hdf5\n",
            "Epoch 25/30\n",
            "3919/3919 [==============================] - 144s 37ms/step - loss: 4.2259 - accuracy: 0.2581 - val_loss: 6.7632 - val_accuracy: 0.2100\n",
            "\n",
            "Epoch 00025: loss improved from 4.29096 to 4.26607, saving model to model025.hdf5\n",
            "Epoch 26/30\n",
            "3919/3919 [==============================] - 144s 37ms/step - loss: 4.2137 - accuracy: 0.2583 - val_loss: 6.7643 - val_accuracy: 0.2094\n",
            "\n",
            "Epoch 00026: loss improved from 4.26607 to 4.24184, saving model to model026.hdf5\n",
            "Epoch 27/30\n",
            "3919/3919 [==============================] - 144s 37ms/step - loss: 4.1845 - accuracy: 0.2618 - val_loss: 6.8361 - val_accuracy: 0.2098\n",
            "\n",
            "Epoch 00027: loss improved from 4.24184 to 4.21858, saving model to model027.hdf5\n",
            "Epoch 28/30\n",
            "3919/3919 [==============================] - 145s 37ms/step - loss: 4.1610 - accuracy: 0.2644 - val_loss: 6.9077 - val_accuracy: 0.2111\n",
            "\n",
            "Epoch 00028: loss improved from 4.21858 to 4.19788, saving model to model028.hdf5\n",
            "Epoch 29/30\n",
            "3919/3919 [==============================] - 143s 37ms/step - loss: 4.1466 - accuracy: 0.2655 - val_loss: 6.9593 - val_accuracy: 0.2106\n",
            "\n",
            "Epoch 00029: loss improved from 4.19788 to 4.17875, saving model to model029.hdf5\n",
            "Epoch 30/30\n",
            "3919/3919 [==============================] - 143s 37ms/step - loss: 4.1217 - accuracy: 0.2683 - val_loss: 7.0069 - val_accuracy: 0.2098\n",
            "\n",
            "Epoch 00030: loss improved from 4.17875 to 4.15795, saving model to model030.hdf5\n"
          ],
          "name": "stdout"
        }
      ]
    },
    {
      "cell_type": "code",
      "metadata": {
        "colab": {
          "base_uri": "https://localhost:8080/",
          "height": 513
        },
        "id": "--0Y77agz8jd",
        "outputId": "92e1442b-027e-4259-be91-10feff519476"
      },
      "source": [
        "train_losses = hist.history['loss']\n",
        "valid_losses = hist.history['val_loss']\n",
        "perplexity_train = np.exp(train_losses)\n",
        "perplexity_valid = np.exp(valid_losses)\n",
        "train_accur = hist.history['accuracy']\n",
        "valid_accur = hist.history['val_accuracy']\n",
        "\n",
        "fig, axs = plt.subplots(1,3,figsize=(24,8))\n",
        "# Plot CE loss\n",
        "axs[0].set(title='Categorical CrossEntropy Loss', xlabel='epoch', ylabel='categorical CE loss')\n",
        "axs[0].plot(hist.epoch, train_losses, label='train')\n",
        "axs[0].plot(hist.epoch, valid_losses, label='validation')\n",
        "axs[0].legend()\n",
        "# Plot perplexicity\n",
        "axs[1].set(title='Perplexity', xlabel='epoch', ylabel='Perplexity')\n",
        "axs[1].plot(hist.epoch, perplexity_train, label='train')\n",
        "axs[1].plot(hist.epoch, perplexity_valid, label='validation')\n",
        "axs[1].legend()\n",
        "# Plot accuracy\n",
        "axs[2].set(title='Accuracy', xlabel='epoch', ylabel='accuracy')\n",
        "axs[2].plot(hist.epoch, train_accur, label='train')\n",
        "axs[2].plot(hist.epoch, valid_accur, label='validation')\n",
        "axs[2].legend()\n",
        "plt.show()"
      ],
      "execution_count": 29,
      "outputs": [
        {
          "output_type": "display_data",
          "data": {
            "image/png": "[encoded data removed]",
            "text/plain": [
              "<Figure size 1728x576 with 3 Axes>"
            ]
          },
          "metadata": {
            "tags": [],
            "needs_background": "light"
          }
        }
      ]
    },
    {
      "cell_type": "code",
      "metadata": {
        "colab": {
          "base_uri": "https://localhost:8080/"
        },
        "id": "quIKp8Euz-H9",
        "outputId": "a51b88c2-3f5a-4ca0-ca70-d3002fc670c7"
      },
      "source": [
        "# Conduct test on final model after 30 epochs\n",
        "model.evaluate(X_test, y_test)"
      ],
      "execution_count": 30,
      "outputs": [
        {
          "output_type": "stream",
          "text": [
            "7838/7838 [==============================] - 82s 10ms/step - loss: 7.0069 - accuracy: 0.2098\n"
          ],
          "name": "stdout"
        },
        {
          "output_type": "execute_result",
          "data": {
            "text/plain": [
              "[7.006875038146973, 0.209760382771492]"
            ]
          },
          "metadata": {
            "tags": []
          },
          "execution_count": 30
        }
      ]
    },
    {
      "cell_type": "code",
      "metadata": {
        "colab": {
          "base_uri": "https://localhost:8080/"
        },
        "id": "VA8zmYc_z_fM",
        "outputId": "168a0fb4-16f9-483d-ee18-cdb070f5a726"
      },
      "source": [
        "# Load specific model to test, look at model at epoch 12 since it is not over-fit too badly yet\n",
        "from keras.models import load_model\n",
        "model1 = load_model('model012.hdf5')\n",
        "model1.evaluate(X_test, y_test)"
      ],
      "execution_count": 32,
      "outputs": [
        {
          "output_type": "stream",
          "text": [
            "7838/7838 [==============================] - 84s 11ms/step - loss: 6.0067 - accuracy: 0.1960\n"
          ],
          "name": "stdout"
        },
        {
          "output_type": "execute_result",
          "data": {
            "text/plain": [
              "[6.006707191467285, 0.1960049420595169]"
            ]
          },
          "metadata": {
            "tags": []
          },
          "execution_count": 32
        }
      ]
    },
    {
      "cell_type": "code",
      "metadata": {
        "id": "NbXf7a6buRby"
      },
      "source": [
        ""
      ],
      "execution_count": null,
      "outputs": []
    }
  ]
}